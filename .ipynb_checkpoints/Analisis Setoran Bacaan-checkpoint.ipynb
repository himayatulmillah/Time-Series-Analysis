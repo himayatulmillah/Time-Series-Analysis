{
 "cells": [
  {
   "cell_type": "markdown",
   "metadata": {
    "extensions": {
     "jupyter_dashboards": {
      "version": 1,
      "views": {
       "grid_default": {},
       "report_default": {
        "hidden": false
       }
      }
     }
    }
   },
   "source": [
    "# Analisis Setoran Sholawat"
   ]
  },
  {
   "cell_type": "code",
   "execution_count": 1,
   "metadata": {
    "extensions": {
     "jupyter_dashboards": {
      "version": 1,
      "views": {
       "grid_default": {},
       "report_default": {
        "hidden": true
       }
      }
     }
    }
   },
   "outputs": [],
   "source": [
    "import pandas as pd\n",
    "import matplotlib.pyplot as plt\n",
    "import calendar"
   ]
  },
  {
   "cell_type": "markdown",
   "metadata": {
    "extensions": {
     "jupyter_dashboards": {
      "version": 1,
      "views": {
       "grid_default": {},
       "report_default": {
        "hidden": false
       }
      }
     }
    }
   },
   "source": [
    "## Load Dataset"
   ]
  },
  {
   "cell_type": "code",
   "execution_count": 2,
   "metadata": {
    "extensions": {
     "jupyter_dashboards": {
      "version": 1,
      "views": {
       "grid_default": {},
       "report_default": {
        "hidden": true
       }
      }
     }
    }
   },
   "outputs": [],
   "source": [
    "df = pd.read_csv('http://bit.ly/sholawat-csv')"
   ]
  },
  {
   "cell_type": "code",
   "execution_count": 3,
   "metadata": {
    "extensions": {
     "jupyter_dashboards": {
      "version": 1,
      "views": {
       "grid_default": {},
       "report_default": {
        "hidden": false
       }
      }
     }
    }
   },
   "outputs": [
    {
     "data": {
      "text/html": [
       "<div>\n",
       "<style scoped>\n",
       "    .dataframe tbody tr th:only-of-type {\n",
       "        vertical-align: middle;\n",
       "    }\n",
       "\n",
       "    .dataframe tbody tr th {\n",
       "        vertical-align: top;\n",
       "    }\n",
       "\n",
       "    .dataframe thead th {\n",
       "        text-align: right;\n",
       "    }\n",
       "</style>\n",
       "<table border=\"1\" class=\"dataframe\">\n",
       "  <thead>\n",
       "    <tr style=\"text-align: right;\">\n",
       "      <th></th>\n",
       "      <th>Timestamp</th>\n",
       "      <th>nama-tgl</th>\n",
       "      <th>Nama</th>\n",
       "      <th>Tanggal Bacaan</th>\n",
       "      <th>Jumlah Sholawat</th>\n",
       "    </tr>\n",
       "  </thead>\n",
       "  <tbody>\n",
       "    <tr>\n",
       "      <th>0</th>\n",
       "      <td>02/10/2020 17:39:28</td>\n",
       "      <td>Maya44106</td>\n",
       "      <td>Maya</td>\n",
       "      <td>02/10/2020</td>\n",
       "      <td>3.003</td>\n",
       "    </tr>\n",
       "    <tr>\n",
       "      <th>1</th>\n",
       "      <td>02/10/2020 18:09:24</td>\n",
       "      <td>Miya44106</td>\n",
       "      <td>Miya</td>\n",
       "      <td>02/10/2020</td>\n",
       "      <td>5.000</td>\n",
       "    </tr>\n",
       "    <tr>\n",
       "      <th>2</th>\n",
       "      <td>02/10/2020 17:19:13</td>\n",
       "      <td>Ulil44106</td>\n",
       "      <td>Ulil</td>\n",
       "      <td>02/10/2020</td>\n",
       "      <td>1.400</td>\n",
       "    </tr>\n",
       "    <tr>\n",
       "      <th>3</th>\n",
       "      <td>02/10/2020 17:20:25</td>\n",
       "      <td>Uuz44106</td>\n",
       "      <td>Uuz</td>\n",
       "      <td>02/10/2020</td>\n",
       "      <td>1.525</td>\n",
       "    </tr>\n",
       "    <tr>\n",
       "      <th>4</th>\n",
       "      <td>02/10/2020 17:42:49</td>\n",
       "      <td>Yumi44106</td>\n",
       "      <td>Yumi</td>\n",
       "      <td>02/10/2020</td>\n",
       "      <td>1.000</td>\n",
       "    </tr>\n",
       "  </tbody>\n",
       "</table>\n",
       "</div>"
      ],
      "text/plain": [
       "             Timestamp   nama-tgl  Nama Tanggal Bacaan  Jumlah Sholawat\n",
       "0  02/10/2020 17:39:28  Maya44106  Maya     02/10/2020            3.003\n",
       "1  02/10/2020 18:09:24  Miya44106  Miya     02/10/2020            5.000\n",
       "2  02/10/2020 17:19:13  Ulil44106  Ulil     02/10/2020            1.400\n",
       "3  02/10/2020 17:20:25   Uuz44106   Uuz     02/10/2020            1.525\n",
       "4  02/10/2020 17:42:49  Yumi44106  Yumi     02/10/2020            1.000"
      ]
     },
     "execution_count": 3,
     "metadata": {},
     "output_type": "execute_result"
    }
   ],
   "source": [
    "df.head()"
   ]
  },
  {
   "cell_type": "code",
   "execution_count": 4,
   "metadata": {
    "extensions": {
     "jupyter_dashboards": {
      "version": 1,
      "views": {
       "grid_default": {},
       "report_default": {
        "hidden": false
       }
      }
     }
    }
   },
   "outputs": [
    {
     "name": "stdout",
     "output_type": "stream",
     "text": [
      "Ukuran dataset: 932 baris dan 5 kolom\n"
     ]
    }
   ],
   "source": [
    "print(f'Ukuran dataset: {df.shape[0]} baris dan {df.shape[1]} kolom')"
   ]
  },
  {
   "cell_type": "markdown",
   "metadata": {
    "extensions": {
     "jupyter_dashboards": {
      "version": 1,
      "views": {
       "grid_default": {},
       "report_default": {
        "hidden": false
       }
      }
     }
    }
   },
   "source": [
    "Penjelasan dataset:\n",
    "\n",
    "<ul>\n",
    "    <li><b>Timestamp</b>: tanggal pengisian data</li>\n",
    "    <li><b>nama-tgl</b>: penggabungan kolom Nama dan Tanggal Bacaan</li>\n",
    "    <li><b>Nama</b>: nama penyetor</li>\n",
    "    <li><b>Tanggal Bacaan</b>: tanggal bacaan sholawat</li>\n",
    "    <li><b>Jumlah Sholawat</b>: jumlah bacaan sholawat</li>\n",
    "</ul>\n",
    "\n",
    "Penting diketahui bahwa tanggal bacaan sholawat dengan tanggal pengisian data bisa berbeda, mereka bisa mengisi data untuk beberapa tanggal bacaan sholawat sekaligus dalam sehari yang bisa diakibatkan oleh keterlambatan pengisian data."
   ]
  },
  {
   "cell_type": "markdown",
   "metadata": {
    "extensions": {
     "jupyter_dashboards": {
      "version": 1,
      "views": {
       "grid_default": {},
       "report_default": {
        "hidden": false
       }
      }
     }
    }
   },
   "source": [
    "## Data Preparation"
   ]
  },
  {
   "cell_type": "markdown",
   "metadata": {
    "extensions": {
     "jupyter_dashboards": {
      "version": 1,
      "views": {
       "grid_default": {},
       "report_default": {
        "hidden": false
       }
      }
     }
    }
   },
   "source": [
    "Sebelum melanjutkan proses analisa, perlu untuk dilakukan data preparation atau data cleaning terlebih dahulu untuk memastikan data yang digunakan sudah sesuai dengan format yang diinginkan dan hapus data yang tidak diperlukan."
   ]
  },
  {
   "cell_type": "markdown",
   "metadata": {
    "extensions": {
     "jupyter_dashboards": {
      "version": 1,
      "views": {
       "grid_default": {},
       "report_default": {
        "hidden": false
       }
      }
     }
    }
   },
   "source": [
    "#### Drop Useless Column"
   ]
  },
  {
   "cell_type": "markdown",
   "metadata": {
    "extensions": {
     "jupyter_dashboards": {
      "version": 1,
      "views": {
       "grid_default": {},
       "report_default": {
        "hidden": false
       }
      }
     }
    }
   },
   "source": [
    "Langkah pertama, hapus kolom <b>nama-tgl</b> karena bisa jadi data <i>redundant</i>."
   ]
  },
  {
   "cell_type": "code",
   "execution_count": 5,
   "metadata": {
    "extensions": {
     "jupyter_dashboards": {
      "version": 1,
      "views": {
       "grid_default": {},
       "report_default": {
        "hidden": false
       }
      }
     }
    }
   },
   "outputs": [
    {
     "name": "stdout",
     "output_type": "stream",
     "text": [
      "Ukuran dataset: 932 baris dan 4 kolom\n"
     ]
    }
   ],
   "source": [
    "# drop 'nama-tgl' column\n",
    "df.drop(columns='nama-tgl', axis=1, inplace=True)\n",
    "print(f'Ukuran dataset: {df.shape[0]} baris dan {df.shape[1]} kolom')"
   ]
  },
  {
   "cell_type": "markdown",
   "metadata": {
    "extensions": {
     "jupyter_dashboards": {
      "version": 1,
      "views": {
       "grid_default": {},
       "report_default": {
        "hidden": false
       }
      }
     }
    }
   },
   "source": [
    "#### Check Duplicates Values"
   ]
  },
  {
   "cell_type": "markdown",
   "metadata": {
    "extensions": {
     "jupyter_dashboards": {
      "version": 1,
      "views": {
       "grid_default": {},
       "report_default": {
        "hidden": false
       }
      }
     }
    }
   },
   "source": [
    "Tahap selanjutnya adalah melakukan inspeksi data duplikat (<i>duplicate values</i>) dengan menggunakan fungsi <code>.duplicated()</code>"
   ]
  },
  {
   "cell_type": "code",
   "execution_count": 6,
   "metadata": {
    "extensions": {
     "jupyter_dashboards": {
      "version": 1,
      "views": {
       "grid_default": {},
       "report_default": {
        "hidden": false
       }
      }
     }
    }
   },
   "outputs": [
    {
     "data": {
      "text/html": [
       "<div>\n",
       "<style scoped>\n",
       "    .dataframe tbody tr th:only-of-type {\n",
       "        vertical-align: middle;\n",
       "    }\n",
       "\n",
       "    .dataframe tbody tr th {\n",
       "        vertical-align: top;\n",
       "    }\n",
       "\n",
       "    .dataframe thead th {\n",
       "        text-align: right;\n",
       "    }\n",
       "</style>\n",
       "<table border=\"1\" class=\"dataframe\">\n",
       "  <thead>\n",
       "    <tr style=\"text-align: right;\">\n",
       "      <th></th>\n",
       "      <th>Timestamp</th>\n",
       "      <th>Nama</th>\n",
       "      <th>Tanggal Bacaan</th>\n",
       "      <th>Jumlah Sholawat</th>\n",
       "    </tr>\n",
       "  </thead>\n",
       "  <tbody>\n",
       "  </tbody>\n",
       "</table>\n",
       "</div>"
      ],
      "text/plain": [
       "Empty DataFrame\n",
       "Columns: [Timestamp, Nama, Tanggal Bacaan, Jumlah Sholawat]\n",
       "Index: []"
      ]
     },
     "execution_count": 6,
     "metadata": {},
     "output_type": "execute_result"
    }
   ],
   "source": [
    "# check duplicate rows\n",
    "df[df.duplicated() == True]"
   ]
  },
  {
   "cell_type": "markdown",
   "metadata": {
    "extensions": {
     "jupyter_dashboards": {
      "version": 1,
      "views": {
       "grid_default": {},
       "report_default": {
        "hidden": false
       }
      }
     }
    }
   },
   "source": [
    "Pada saat melakukan pengecekan duplikasi data baris untuk seluruh kolom, tidak ditemukan adanya duplikasi data karena kolom <b>Timestamp</b> adalah nilai unik yang otomatis terisi ketika anggota mensubmit form setoran bacaan, dengan kata lain jumlah nilai unik pada kolom Timestamp sebanyak jumlah baris pada dataset. Hal ini bisa dilihat dengan menampilkan nilai unik setiap kolom dengan fungsi <code>.nunique()</code>"
   ]
  },
  {
   "cell_type": "code",
   "execution_count": 7,
   "metadata": {
    "extensions": {
     "jupyter_dashboards": {
      "version": 1,
      "views": {
       "grid_default": {},
       "report_default": {
        "hidden": false
       }
      }
     }
    }
   },
   "outputs": [
    {
     "data": {
      "text/plain": [
       "Timestamp          932\n",
       "Nama                 7\n",
       "Tanggal Bacaan     151\n",
       "Jumlah Sholawat    163\n",
       "dtype: int64"
      ]
     },
     "execution_count": 7,
     "metadata": {},
     "output_type": "execute_result"
    }
   ],
   "source": [
    "df.nunique()"
   ]
  },
  {
   "cell_type": "markdown",
   "metadata": {
    "extensions": {
     "jupyter_dashboards": {
      "version": 1,
      "views": {
       "grid_default": {},
       "report_default": {
        "hidden": false
       }
      }
     }
    }
   },
   "source": [
    "Jumlah nilai unik pada kolom <b>Timestamp</b> sama dengan jumlah baris pada dataset yaitu 876.\n",
    "\n",
    "Apakah bisa ada kemungkinan bahwa ada data duplikasi yang bisa mempengaruhi proses analisa? tentu ada, yaitu kondisi dimana anggota mengisi setoran untuk tanggal yang sama dengan jumlah yang sama (double input atau double submit ketika halaman di muat ulang). Pengecekan duplikasi bisa dilakukan dengan menyeleksi kolom yang diisi manual oleh anggota, yaitu kolom <b>Nama</b>, <b>Tanggal Bacaan</b>, dan <b>Jumlah Sholawat</b>."
   ]
  },
  {
   "cell_type": "code",
   "execution_count": 8,
   "metadata": {
    "extensions": {
     "jupyter_dashboards": {
      "version": 1,
      "views": {
       "grid_default": {},
       "report_default": {
        "hidden": false
       }
      }
     }
    }
   },
   "outputs": [
    {
     "data": {
      "text/html": [
       "<div>\n",
       "<style scoped>\n",
       "    .dataframe tbody tr th:only-of-type {\n",
       "        vertical-align: middle;\n",
       "    }\n",
       "\n",
       "    .dataframe tbody tr th {\n",
       "        vertical-align: top;\n",
       "    }\n",
       "\n",
       "    .dataframe thead th {\n",
       "        text-align: right;\n",
       "    }\n",
       "</style>\n",
       "<table border=\"1\" class=\"dataframe\">\n",
       "  <thead>\n",
       "    <tr style=\"text-align: right;\">\n",
       "      <th></th>\n",
       "      <th>Timestamp</th>\n",
       "      <th>Nama</th>\n",
       "      <th>Tanggal Bacaan</th>\n",
       "      <th>Jumlah Sholawat</th>\n",
       "    </tr>\n",
       "  </thead>\n",
       "  <tbody>\n",
       "    <tr>\n",
       "      <th>930</th>\n",
       "      <td>01/03/2021 17:11:40</td>\n",
       "      <td>Miya</td>\n",
       "      <td>26/02/2021</td>\n",
       "      <td>10000.0</td>\n",
       "    </tr>\n",
       "  </tbody>\n",
       "</table>\n",
       "</div>"
      ],
      "text/plain": [
       "               Timestamp  Nama Tanggal Bacaan  Jumlah Sholawat\n",
       "930  01/03/2021 17:11:40  Miya     26/02/2021          10000.0"
      ]
     },
     "execution_count": 8,
     "metadata": {},
     "output_type": "execute_result"
    }
   ],
   "source": [
    "# check duplicate in 'Nama', 'Tanggal Bacaan', 'Jumlah Sholawat' columns, it can be double input\n",
    "df[df[['Nama','Tanggal Bacaan', 'Jumlah Sholawat']].duplicated() == True].sort_values('Nama')"
   ]
  },
  {
   "cell_type": "markdown",
   "metadata": {
    "extensions": {
     "jupyter_dashboards": {
      "version": 1,
      "views": {
       "grid_default": {},
       "report_default": {
        "hidden": false
       }
      }
     }
    }
   },
   "source": [
    "Pada dataset kali ini, tidak ada data duplikasi karena sudah dibersihkan manual di spreadsheet. Namun proses penghapusan duplikasi data tetap bisa dilakukan jika suatu saat nanti data bertambah banyak dan tidak ada kesempatan untuk membersihkan manual dari spreadsheet. Gunakan fungsi <code>.drop_duplicates()</code> untuk menghapus data duplikat."
   ]
  },
  {
   "cell_type": "code",
   "execution_count": 9,
   "metadata": {
    "extensions": {
     "jupyter_dashboards": {
      "version": 1,
      "views": {
       "grid_default": {},
       "report_default": {
        "hidden": false
       }
      }
     }
    }
   },
   "outputs": [
    {
     "name": "stdout",
     "output_type": "stream",
     "text": [
      "Ukuran dataset setelah hapus duplikat: 932 baris dan 4 kolom\n"
     ]
    }
   ],
   "source": [
    "# drop duplicate values in rows\n",
    "df.drop_duplicates()\n",
    "\n",
    "# drop duplicates data with same value in 'Nama', 'Tanggal Bacaan', 'Jumlah Sholawat' columns\n",
    "df[['Nama', 'Tanggal Bacaan', 'Jumlah Sholawat']].drop_duplicates()\n",
    "\n",
    "# check shape of data after drop duplicate values\n",
    "print(f'Ukuran dataset setelah hapus duplikat: {df.shape[0]} baris dan {df.shape[1]} kolom')"
   ]
  },
  {
   "cell_type": "markdown",
   "metadata": {
    "extensions": {
     "jupyter_dashboards": {
      "version": 1,
      "views": {
       "grid_default": {},
       "report_default": {
        "hidden": false
       }
      }
     }
    }
   },
   "source": [
    "Jumlah baris masih sama dengan dataset asli yaitu 876 baris karena tidak ada data duplikat pada dataset ini."
   ]
  },
  {
   "cell_type": "markdown",
   "metadata": {
    "extensions": {
     "jupyter_dashboards": {
      "version": 1,
      "views": {
       "grid_default": {},
       "report_default": {
        "hidden": false
       }
      }
     }
    }
   },
   "source": [
    "#### Check Mising Values"
   ]
  },
  {
   "cell_type": "markdown",
   "metadata": {
    "extensions": {
     "jupyter_dashboards": {
      "version": 1,
      "views": {
       "grid_default": {},
       "report_default": {
        "hidden": false
       }
      }
     }
    }
   },
   "source": [
    "Tahapan berikutnya adalah pengecekan kekosongan data (<i>missing values</i>) dengan fungsi <code>.isnull()</code>"
   ]
  },
  {
   "cell_type": "code",
   "execution_count": 10,
   "metadata": {
    "extensions": {
     "jupyter_dashboards": {
      "version": 1,
      "views": {
       "grid_default": {},
       "report_default": {
        "hidden": false
       }
      }
     }
    }
   },
   "outputs": [
    {
     "data": {
      "text/plain": [
       "Timestamp          0\n",
       "Nama               0\n",
       "Tanggal Bacaan     0\n",
       "Jumlah Sholawat    0\n",
       "dtype: int64"
      ]
     },
     "execution_count": 10,
     "metadata": {},
     "output_type": "execute_result"
    }
   ],
   "source": [
    "df.isnull().sum()"
   ]
  },
  {
   "cell_type": "markdown",
   "metadata": {
    "extensions": {
     "jupyter_dashboards": {
      "version": 1,
      "views": {
       "grid_default": {},
       "report_default": {
        "hidden": false
       }
      }
     }
    }
   },
   "source": [
    "Dataset yang digunakan tidak memiliki <i>missing values</i> karena pada form pengisian setoran sholawat terdapat requirement pada setiap inputan kolom yang artinya semua data wajib terisi dan disesuaikan dengan format yang sudah ditentukan."
   ]
  },
  {
   "cell_type": "markdown",
   "metadata": {
    "extensions": {
     "jupyter_dashboards": {
      "version": 1,
      "views": {
       "grid_default": {},
       "report_default": {
        "hidden": false
       }
      }
     }
    }
   },
   "source": [
    "#### Convert Datatypes"
   ]
  },
  {
   "cell_type": "markdown",
   "metadata": {
    "extensions": {
     "jupyter_dashboards": {
      "version": 1,
      "views": {
       "grid_default": {},
       "report_default": {
        "hidden": false
       }
      }
     }
    }
   },
   "source": [
    "Tidak menutup kemungkinan kesalahan format data bisa terjadi pada data dari form tersebut seperti penambahan tanda titik pada kolom <b>Jumlah Sholawat</b>, hal ini dapat menyebabkan format data yang dibaca oleh pandas berbeda, seharusnya tipe integer namun terbaca float. Hal itu bisa dideteksi dengan melakukan pengecekan tipe data dengan fungsi <code>.info()</code>."
   ]
  },
  {
   "cell_type": "code",
   "execution_count": 11,
   "metadata": {
    "extensions": {
     "jupyter_dashboards": {
      "version": 1,
      "views": {
       "grid_default": {},
       "report_default": {
        "hidden": false
       }
      }
     }
    }
   },
   "outputs": [
    {
     "name": "stdout",
     "output_type": "stream",
     "text": [
      "<class 'pandas.core.frame.DataFrame'>\n",
      "RangeIndex: 932 entries, 0 to 931\n",
      "Data columns (total 4 columns):\n",
      " #   Column           Non-Null Count  Dtype  \n",
      "---  ------           --------------  -----  \n",
      " 0   Timestamp        932 non-null    object \n",
      " 1   Nama             932 non-null    object \n",
      " 2   Tanggal Bacaan   932 non-null    object \n",
      " 3   Jumlah Sholawat  932 non-null    float64\n",
      "dtypes: float64(1), object(3)\n",
      "memory usage: 29.2+ KB\n"
     ]
    }
   ],
   "source": [
    "df.info()"
   ]
  },
  {
   "cell_type": "markdown",
   "metadata": {
    "extensions": {
     "jupyter_dashboards": {
      "version": 1,
      "views": {
       "grid_default": {},
       "report_default": {
        "hidden": false
       }
      }
     }
    }
   },
   "source": [
    "Pada dataset terdapat 2 kolom tanggal yang seharusnya bertipe <i>datetime</i>, yaitu kolom <b>Timestamp</b> dan <b>Tanggal Bacaan</b>. Lakukan konversi ke tipe data datetime untuk kedua kolom tersebut dengan fungsi <code>.to_datetime()</code> pandas."
   ]
  },
  {
   "cell_type": "code",
   "execution_count": 12,
   "metadata": {
    "extensions": {
     "jupyter_dashboards": {
      "version": 1,
      "views": {
       "grid_default": {},
       "report_default": {
        "hidden": false
       }
      }
     }
    }
   },
   "outputs": [
    {
     "name": "stdout",
     "output_type": "stream",
     "text": [
      "<class 'pandas.core.frame.DataFrame'>\n",
      "RangeIndex: 932 entries, 0 to 931\n",
      "Data columns (total 4 columns):\n",
      " #   Column           Non-Null Count  Dtype         \n",
      "---  ------           --------------  -----         \n",
      " 0   Timestamp        932 non-null    datetime64[ns]\n",
      " 1   Nama             932 non-null    object        \n",
      " 2   Tanggal Bacaan   932 non-null    datetime64[ns]\n",
      " 3   Jumlah Sholawat  932 non-null    float64       \n",
      "dtypes: datetime64[ns](2), float64(1), object(1)\n",
      "memory usage: 29.2+ KB\n"
     ]
    }
   ],
   "source": [
    "# convert datetime columns\n",
    "df['Timestamp'] = pd.to_datetime(df['Timestamp'], dayfirst=True)\n",
    "df['Tanggal Bacaan'] = pd.to_datetime(df['Tanggal Bacaan'], dayfirst=True)\n",
    "\n",
    "# check the result\n",
    "df.info()"
   ]
  },
  {
   "cell_type": "markdown",
   "metadata": {
    "extensions": {
     "jupyter_dashboards": {
      "version": 1,
      "views": {
       "grid_default": {},
       "report_default": {
        "hidden": false
       }
      }
     }
    }
   },
   "source": [
    "Pada kolom <b>Jumlah Sholawat</b> seharusnya berisi data integer dimana angka ribuan atau lebih tidak menggunakan tanda titik (.), bersihkan data pada kolom tersebut kemudian convert data menjadi integer menggunakan <code>.astype()</code>"
   ]
  },
  {
   "cell_type": "code",
   "execution_count": 13,
   "metadata": {
    "extensions": {
     "jupyter_dashboards": {
      "version": 1,
      "views": {
       "grid_default": {},
       "report_default": {
        "hidden": false
       }
      }
     }
    }
   },
   "outputs": [
    {
     "name": "stdout",
     "output_type": "stream",
     "text": [
      "<class 'pandas.core.frame.DataFrame'>\n",
      "RangeIndex: 932 entries, 0 to 931\n",
      "Data columns (total 4 columns):\n",
      " #   Column           Non-Null Count  Dtype         \n",
      "---  ------           --------------  -----         \n",
      " 0   Timestamp        932 non-null    datetime64[ns]\n",
      " 1   Nama             932 non-null    object        \n",
      " 2   Tanggal Bacaan   932 non-null    datetime64[ns]\n",
      " 3   Jumlah Sholawat  932 non-null    int64         \n",
      "dtypes: datetime64[ns](2), int64(1), object(1)\n",
      "memory usage: 29.2+ KB\n"
     ]
    }
   ],
   "source": [
    "# create function to fix the format\n",
    "def float_to_int(data):\n",
    "    if data <= 0:\n",
    "        data = 0\n",
    "    elif data < 10:\n",
    "        data = data * 1000\n",
    "    else:\n",
    "        pass\n",
    "    return data\n",
    "\n",
    "# assign function and convert the datatype\n",
    "df['Jumlah Sholawat'] = df['Jumlah Sholawat'].apply(lambda x: float_to_int(x)).astype('int64')\n",
    "\n",
    "# check the result\n",
    "df.info()"
   ]
  },
  {
   "cell_type": "markdown",
   "metadata": {
    "extensions": {
     "jupyter_dashboards": {
      "version": 1,
      "views": {
       "grid_default": {},
       "report_default": {
        "hidden": false
       }
      }
     }
    }
   },
   "source": [
    "#### Result"
   ]
  },
  {
   "cell_type": "markdown",
   "metadata": {
    "extensions": {
     "jupyter_dashboards": {
      "version": 1,
      "views": {
       "grid_default": {},
       "report_default": {
        "hidden": false
       }
      }
     }
    }
   },
   "source": [
    "Kita lihat hasil akhir data proccessing pada dataset dengan fungsi <code>.head</code>"
   ]
  },
  {
   "cell_type": "code",
   "execution_count": 14,
   "metadata": {
    "extensions": {
     "jupyter_dashboards": {
      "version": 1,
      "views": {
       "grid_default": {},
       "report_default": {
        "hidden": false
       }
      }
     }
    }
   },
   "outputs": [
    {
     "data": {
      "text/html": [
       "<div>\n",
       "<style scoped>\n",
       "    .dataframe tbody tr th:only-of-type {\n",
       "        vertical-align: middle;\n",
       "    }\n",
       "\n",
       "    .dataframe tbody tr th {\n",
       "        vertical-align: top;\n",
       "    }\n",
       "\n",
       "    .dataframe thead th {\n",
       "        text-align: right;\n",
       "    }\n",
       "</style>\n",
       "<table border=\"1\" class=\"dataframe\">\n",
       "  <thead>\n",
       "    <tr style=\"text-align: right;\">\n",
       "      <th></th>\n",
       "      <th>Timestamp</th>\n",
       "      <th>Nama</th>\n",
       "      <th>Tanggal Bacaan</th>\n",
       "      <th>Jumlah Sholawat</th>\n",
       "    </tr>\n",
       "  </thead>\n",
       "  <tbody>\n",
       "    <tr>\n",
       "      <th>0</th>\n",
       "      <td>2020-10-02 17:39:28</td>\n",
       "      <td>Maya</td>\n",
       "      <td>2020-10-02</td>\n",
       "      <td>3003</td>\n",
       "    </tr>\n",
       "    <tr>\n",
       "      <th>1</th>\n",
       "      <td>2020-10-02 18:09:24</td>\n",
       "      <td>Miya</td>\n",
       "      <td>2020-10-02</td>\n",
       "      <td>5000</td>\n",
       "    </tr>\n",
       "    <tr>\n",
       "      <th>2</th>\n",
       "      <td>2020-10-02 17:19:13</td>\n",
       "      <td>Ulil</td>\n",
       "      <td>2020-10-02</td>\n",
       "      <td>1400</td>\n",
       "    </tr>\n",
       "    <tr>\n",
       "      <th>3</th>\n",
       "      <td>2020-10-02 17:20:25</td>\n",
       "      <td>Uuz</td>\n",
       "      <td>2020-10-02</td>\n",
       "      <td>1525</td>\n",
       "    </tr>\n",
       "    <tr>\n",
       "      <th>4</th>\n",
       "      <td>2020-10-02 17:42:49</td>\n",
       "      <td>Yumi</td>\n",
       "      <td>2020-10-02</td>\n",
       "      <td>1000</td>\n",
       "    </tr>\n",
       "  </tbody>\n",
       "</table>\n",
       "</div>"
      ],
      "text/plain": [
       "            Timestamp  Nama Tanggal Bacaan  Jumlah Sholawat\n",
       "0 2020-10-02 17:39:28  Maya     2020-10-02             3003\n",
       "1 2020-10-02 18:09:24  Miya     2020-10-02             5000\n",
       "2 2020-10-02 17:19:13  Ulil     2020-10-02             1400\n",
       "3 2020-10-02 17:20:25   Uuz     2020-10-02             1525\n",
       "4 2020-10-02 17:42:49  Yumi     2020-10-02             1000"
      ]
     },
     "execution_count": 14,
     "metadata": {},
     "output_type": "execute_result"
    }
   ],
   "source": [
    "df.head()"
   ]
  },
  {
   "cell_type": "markdown",
   "metadata": {
    "extensions": {
     "jupyter_dashboards": {
      "version": 1,
      "views": {
       "grid_default": {},
       "report_default": {
        "hidden": false
       }
      }
     }
    }
   },
   "source": [
    "## Data Analysis"
   ]
  },
  {
   "cell_type": "markdown",
   "metadata": {
    "extensions": {
     "jupyter_dashboards": {
      "version": 1,
      "views": {
       "grid_default": {},
       "report_default": {
        "hidden": false
       }
      }
     }
    }
   },
   "source": [
    "Untuk mempermudah proses analisis, tambahkan kolom <b>Bulan</b> dan <b>Tanggal</b> yang didapat dari kolom <b>Tanggal Bacaan</b> sebagai acuan analisa data"
   ]
  },
  {
   "cell_type": "code",
   "execution_count": 15,
   "metadata": {
    "extensions": {
     "jupyter_dashboards": {
      "version": 1,
      "views": {
       "grid_default": {},
       "report_default": {
        "hidden": false
       }
      }
     }
    }
   },
   "outputs": [
    {
     "data": {
      "text/html": [
       "<div>\n",
       "<style scoped>\n",
       "    .dataframe tbody tr th:only-of-type {\n",
       "        vertical-align: middle;\n",
       "    }\n",
       "\n",
       "    .dataframe tbody tr th {\n",
       "        vertical-align: top;\n",
       "    }\n",
       "\n",
       "    .dataframe thead th {\n",
       "        text-align: right;\n",
       "    }\n",
       "</style>\n",
       "<table border=\"1\" class=\"dataframe\">\n",
       "  <thead>\n",
       "    <tr style=\"text-align: right;\">\n",
       "      <th></th>\n",
       "      <th>Timestamp</th>\n",
       "      <th>Nama</th>\n",
       "      <th>Tanggal Bacaan</th>\n",
       "      <th>Jumlah Sholawat</th>\n",
       "      <th>Bulan</th>\n",
       "      <th>Tanggal</th>\n",
       "    </tr>\n",
       "  </thead>\n",
       "  <tbody>\n",
       "    <tr>\n",
       "      <th>0</th>\n",
       "      <td>2020-10-02 17:39:28</td>\n",
       "      <td>Maya</td>\n",
       "      <td>2020-10-02</td>\n",
       "      <td>3003</td>\n",
       "      <td>2020-10</td>\n",
       "      <td>4</td>\n",
       "    </tr>\n",
       "    <tr>\n",
       "      <th>1</th>\n",
       "      <td>2020-10-02 18:09:24</td>\n",
       "      <td>Miya</td>\n",
       "      <td>2020-10-02</td>\n",
       "      <td>5000</td>\n",
       "      <td>2020-10</td>\n",
       "      <td>4</td>\n",
       "    </tr>\n",
       "    <tr>\n",
       "      <th>2</th>\n",
       "      <td>2020-10-02 17:19:13</td>\n",
       "      <td>Ulil</td>\n",
       "      <td>2020-10-02</td>\n",
       "      <td>1400</td>\n",
       "      <td>2020-10</td>\n",
       "      <td>4</td>\n",
       "    </tr>\n",
       "    <tr>\n",
       "      <th>3</th>\n",
       "      <td>2020-10-02 17:20:25</td>\n",
       "      <td>Uuz</td>\n",
       "      <td>2020-10-02</td>\n",
       "      <td>1525</td>\n",
       "      <td>2020-10</td>\n",
       "      <td>4</td>\n",
       "    </tr>\n",
       "    <tr>\n",
       "      <th>4</th>\n",
       "      <td>2020-10-02 17:42:49</td>\n",
       "      <td>Yumi</td>\n",
       "      <td>2020-10-02</td>\n",
       "      <td>1000</td>\n",
       "      <td>2020-10</td>\n",
       "      <td>4</td>\n",
       "    </tr>\n",
       "  </tbody>\n",
       "</table>\n",
       "</div>"
      ],
      "text/plain": [
       "            Timestamp  Nama Tanggal Bacaan  Jumlah Sholawat    Bulan  Tanggal\n",
       "0 2020-10-02 17:39:28  Maya     2020-10-02             3003  2020-10        4\n",
       "1 2020-10-02 18:09:24  Miya     2020-10-02             5000  2020-10        4\n",
       "2 2020-10-02 17:19:13  Ulil     2020-10-02             1400  2020-10        4\n",
       "3 2020-10-02 17:20:25   Uuz     2020-10-02             1525  2020-10        4\n",
       "4 2020-10-02 17:42:49  Yumi     2020-10-02             1000  2020-10        4"
      ]
     },
     "execution_count": 15,
     "metadata": {},
     "output_type": "execute_result"
    }
   ],
   "source": [
    "df['Bulan'] = df['Tanggal Bacaan'].apply(lambda x: str(x)[:7])\n",
    "df['Tanggal'] = df['Tanggal Bacaan'].dt.dayofweek\n",
    "df.head()"
   ]
  },
  {
   "cell_type": "markdown",
   "metadata": {
    "extensions": {
     "jupyter_dashboards": {
      "version": 1,
      "views": {
       "grid_default": {},
       "report_default": {
        "hidden": false
       }
      }
     }
    }
   },
   "source": [
    "### Plot berdasarkan bulan"
   ]
  },
  {
   "cell_type": "code",
   "execution_count": 16,
   "metadata": {
    "extensions": {
     "jupyter_dashboards": {
      "version": 1,
      "views": {
       "grid_default": {},
       "report_default": {
        "hidden": false
       }
      }
     }
    }
   },
   "outputs": [
    {
     "data": {
      "image/png": "[encoded data removed]",
      "text/plain": [
       "<Figure size 864x360 with 1 Axes>"
      ]
     },
     "metadata": {
      "needs_background": "light"
     },
     "output_type": "display_data"
    }
   ],
   "source": [
    "df_month_group = df.groupby(['Bulan', 'Nama'])['Jumlah Sholawat'].sum().unstack().fillna(0)\n",
    "\n",
    "df_month_group.plot(marker='o', cmap='plasma') # custom line\n",
    "plt.title('Rekap Bacaan Sholawat per Bulan', loc='center', pad=40, fontsize=20, color='blue')\n",
    "plt.xlabel('Bulan', fontsize=15)\n",
    "plt.ylabel('Jumlah Bacaan (Ribuan)', fontsize=15)\n",
    "plt.grid(color='darkgray', linestyle=':', linewidth=0.5)\n",
    "labels, locations = plt.yticks()\n",
    "plt.yticks(labels, (labels/1000).astype(int))\n",
    "plt.ylim(0)\n",
    "plt.legend(loc='upper center', bbox_to_anchor=(1.1, 1), shadow=True, ncol=1)\n",
    "plt.gcf().set_size_inches(12, 5)\n",
    "plt.show()"
   ]
  },
  {
   "cell_type": "code",
   "execution_count": 17,
   "metadata": {
    "extensions": {
     "jupyter_dashboards": {
      "version": 1,
      "views": {
       "grid_default": {},
       "report_default": {
        "hidden": false
       }
      }
     }
    }
   },
   "outputs": [
    {
     "name": "stdout",
     "output_type": "stream",
     "text": [
      "Jumlah bacaan pada bulan Desember 2020\n",
      " Nama        Anis      Aza      Maya     Miya     Ulil      Uuz     Yumi\n",
      "Bulan                                                                  \n",
      "2020-12  17800.0  14040.0  126523.0  95000.0  54000.0  22800.0  35760.0\n",
      "\n",
      "Selisih jumlah bacaan Ulil pada bulan Januari dan Februari sebanyak -138350.0 atau sekitar -100.0 %\n"
     ]
    }
   ],
   "source": [
    "print('Jumlah bacaan pada bulan Desember 2020\\n', df_month_group[df_month_group.index == '2020-12'])\n",
    "ulil = df_month_group['Ulil']\n",
    "print('\\nSelisih jumlah bacaan Ulil pada bulan Januari dan Februari sebanyak', ulil[-1] - ulil[-2], \n",
    "      'atau sekitar', round((ulil[-1] - ulil[-2]) / ulil[-2] * 100),'%')"
   ]
  },
  {
   "cell_type": "markdown",
   "metadata": {
    "extensions": {
     "jupyter_dashboards": {
      "version": 1,
      "views": {
       "grid_default": {},
       "report_default": {
        "hidden": false
       }
      }
     }
    }
   },
   "source": [
    "<b>Kesimpulan</b>:\n",
    "<ul>\n",
    "    <li>Jumlah bacaan tertinggi yaitu bulan Desember 2020 pada setoran Maya sebanyak <b>126.523</b> bacaan</li>\n",
    "    <li>Terjadi peningkatan yang signifikan pada jumlah bacaan Ulil pada bulan Februari sebanyak <b>83150</b> bacaan atau sekitar <b>236%</b> dari bulan sebelumnya</li>\n",
    "    <li>Jumlah bacaan untuk Miya cenderung fluktuatif (naik-turun), mengalami penurunan jumlah setoran di bulan Desember dan mulai meningkat lagi di bulan berikutnya.</li>\n",
    "    <li>Tidak ada data setoran Aza untuk bulan Februari</li>\n",
    "    <li>Sedangkan jumlah bacaan per bulan untuk anggota lainnya cenderung menurun pada bulan Januari dan Februari.</li>\n",
    "    <li>Pola jumlah bacaan Yumi dan Uuz cenderung sama</li>\n",
    "</ul>"
   ]
  },
  {
   "cell_type": "markdown",
   "metadata": {
    "extensions": {
     "jupyter_dashboards": {
      "version": 1,
      "views": {
       "grid_default": {},
       "report_default": {
        "hidden": false
       }
      }
     }
    }
   },
   "source": [
    "### Plot berdasarkan minggu"
   ]
  },
  {
   "cell_type": "code",
   "execution_count": 18,
   "metadata": {
    "extensions": {
     "jupyter_dashboards": {
      "version": 1,
      "views": {
       "grid_default": {},
       "report_default": {
        "hidden": false
       }
      }
     }
    }
   },
   "outputs": [
    {
     "data": {
      "image/png": "[encoded data removed]",
      "text/plain": [
       "<Figure size 1080x360 with 1 Axes>"
      ]
     },
     "metadata": {
      "needs_background": "light"
     },
     "output_type": "display_data"
    }
   ],
   "source": [
    "df_week_group = df.groupby(['Tanggal Bacaan', 'Nama'])['Jumlah Sholawat'].sum().unstack().fillna(0)\n",
    "\n",
    "df_week_group.resample('W').sum().plot(marker='o', cmap='plasma') # custom line\n",
    "plt.title('Rekap Bacaan Sholawat per Minggu', loc='center', pad=40, fontsize=20, color='blue')\n",
    "plt.xlabel('Minggu', fontsize=15)\n",
    "plt.ylabel('Jumlah Bacaan (Ribuan)', fontsize=15)\n",
    "plt.grid(color='darkgray', linestyle=':', linewidth=0.5)\n",
    "labels, locations = plt.yticks()\n",
    "plt.yticks(labels, (labels/1000).astype(int))\n",
    "plt.ylim(0)\n",
    "plt.gcf().set_size_inches(15, 5)\n",
    "plt.show()"
   ]
  },
  {
   "cell_type": "markdown",
   "metadata": {
    "extensions": {
     "jupyter_dashboards": {
      "version": 1,
      "views": {
       "grid_default": {},
       "report_default": {
        "hidden": false
       }
      }
     }
    }
   },
   "source": [
    "<b>Kesimpulan</b>: \n",
    "<ul>\n",
    "    <li>Lonjakan jumlah setor bacaan Ulil tertinggi terjadi pada minggu ke-2 bulan Februari, dan itu adalah jumlah bacaan tertinggi sejauh pencatatan ini dilakukan</li>\n",
    "    <li>Jumlah bacaan pada minggu terakhir mengalami penurunan setiap bulannya</li>\n",
    "    <li>Terlihat bahwa jumlah setor bacaan Aza bernilai 0 sejak minggu ketiga Januari</li>\n",
    "</ul>"
   ]
  },
  {
   "cell_type": "markdown",
   "metadata": {
    "extensions": {
     "jupyter_dashboards": {
      "version": 1,
      "views": {
       "grid_default": {},
       "report_default": {
        "hidden": false
       }
      }
     }
    }
   },
   "source": [
    "### Plot berdasarkan hari"
   ]
  },
  {
   "cell_type": "code",
   "execution_count": 19,
   "metadata": {
    "extensions": {
     "jupyter_dashboards": {
      "version": 1,
      "views": {
       "grid_default": {},
       "report_default": {
        "hidden": false
       }
      }
     }
    }
   },
   "outputs": [
    {
     "data": {
      "image/png": "[encoded data removed]",
      "text/plain": [
       "<Figure size 720x360 with 1 Axes>"
      ]
     },
     "metadata": {
      "needs_background": "light"
     },
     "output_type": "display_data"
    }
   ],
   "source": [
    "df_day_group = df.groupby(['Tanggal', 'Nama'])['Jumlah Sholawat'].sum().unstack().fillna(0)\n",
    "df_day_group['days'] = list(calendar.day_name)\n",
    "df_day_group = df_day_group.reset_index().set_index('days').drop(columns='Tanggal', axis=1)\n",
    "\n",
    "df_day_group.plot(marker='o', cmap='plasma') # custom line\n",
    "plt.title('Rekap Bacaan Sholawat per Hari', loc='center', pad=40, fontsize=20, color='blue')\n",
    "plt.xlabel('Hari', fontsize=15)\n",
    "plt.ylabel('Jumlah Bacaan (Ribuan)', fontsize=15)\n",
    "plt.grid(color='darkgray', linestyle=':', linewidth=0.5)\n",
    "labels, locations = plt.yticks()\n",
    "plt.yticks(labels, (labels/1000).astype(int))\n",
    "plt.ylim(0)\n",
    "plt.legend(loc='upper center', bbox_to_anchor=(1.1, 1), shadow=True, ncol=1)\n",
    "plt.gcf().set_size_inches(10, 5)\n",
    "plt.show()"
   ]
  },
  {
   "cell_type": "code",
   "execution_count": 20,
   "metadata": {
    "extensions": {
     "jupyter_dashboards": {
      "version": 1,
      "views": {
       "grid_default": {},
       "report_default": {
        "hidden": false
       }
      }
     }
    }
   },
   "outputs": [
    {
     "name": "stdout",
     "output_type": "stream",
     "text": [
      "Setoran tertinggi Anis: 11700, pada hari ['Friday']\n",
      "Setoran tertinggi Aza: 4920, pada hari ['Saturday']\n",
      "Setoran tertinggi Maya: 72196, pada hari ['Friday']\n",
      "Setoran tertinggi Miya: 98000, pada hari ['Friday']\n",
      "Setoran tertinggi Ulil: 61500, pada hari ['Wednesday']\n",
      "Setoran tertinggi Uuz: 15350, pada hari ['Sunday']\n",
      "Setoran tertinggi Yumi: 26810, pada hari ['Thursday']\n"
     ]
    }
   ],
   "source": [
    "def max_val_days(data, nama):\n",
    "    max_val = data[nama].max()\n",
    "    hari = data[nama].loc[(data == max_val).any(axis=1)].index.tolist()\n",
    "    return max_val, hari\n",
    "\n",
    "for nama in df_day_group.columns:\n",
    "    result = max_val_days(df_day_group, nama)\n",
    "    print(f'Setoran tertinggi {nama}: {result[0]}, pada hari {result[1]}')"
   ]
  },
  {
   "cell_type": "markdown",
   "metadata": {
    "extensions": {
     "jupyter_dashboards": {
      "version": 1,
      "views": {
       "grid_default": {},
       "report_default": {
        "hidden": false
       }
      }
     }
    }
   },
   "source": [
    "<b>Kesimpulan</b>: "
   ]
  },
  {
   "cell_type": "code",
   "execution_count": 69,
   "metadata": {},
   "outputs": [
    {
     "data": {
      "image/png": "[encoded data removed]",
      "text/plain": [
       "<Figure size 720x432 with 1 Axes>"
      ]
     },
     "metadata": {
      "needs_background": "light"
     },
     "output_type": "display_data"
    }
   ],
   "source": [
    "plt.rcParams['xtick.bottom'] = plt.rcParams['xtick.labelbottom'] = False\n",
    "plt.rcParams['xtick.top'] = plt.rcParams['xtick.labeltop'] = True\n",
    "\n",
    "df_sum = df.groupby('Nama')['Jumlah Sholawat'].sum().sort_values(ascending=True)\n",
    "ax = df_sum.plot(kind='barh', cmap='plasma')\n",
    "\n",
    "plt.title('Rekap Bacaan Sholawat\\n02 Oktober 2020 - Now\\n', fontsize=14)\n",
    "plt.grid(color='darkgray', linestyle=':', linewidth=0.5)\n",
    "\n",
    "for p in ax.patches:\n",
    "    if p.get_width() > 500000:\n",
    "        x = p.get_x() + p.get_width() - 43000\n",
    "        color = 'white'\n",
    "    else:\n",
    "        x = p.get_x() + p.get_width() + 1000\n",
    "        color = 'black'\n",
    "    y = p.get_y() + p.get_height()/2.5\n",
    "    ax.annotate(p.get_width(), (x, y), color=color)\n",
    "plt.gcf().set_size_inches(10, 6)\n",
    "plt.show()"
   ]
  },
  {
   "cell_type": "code",
   "execution_count": null,
   "metadata": {},
   "outputs": [],
   "source": []
  }
 ],
 "metadata": {
  "extensions": {
   "jupyter_dashboards": {
    "activeView": "report_default",
    "version": 1,
    "views": {
     "grid_default": {
      "name": "grid",
      "type": "grid"
     },
     "report_default": {
      "name": "report",
      "type": "report"
     }
    }
   }
  },
  "kernelspec": {
   "display_name": "Python 3",
   "language": "python",
   "name": "python3"
  },
  "language_info": {
   "codemirror_mode": {
    "name": "ipython",
    "version": 3
   },
   "file_extension": ".py",
   "mimetype": "text/x-python",
   "name": "python",
   "nbconvert_exporter": "python",
   "pygments_lexer": "ipython3",
   "version": "3.8.3"
  }
 },
 "nbformat": 4,
 "nbformat_minor": 4
}
